{
 "cells": [
  {
   "cell_type": "code",
   "execution_count": null,
   "metadata": {},
   "outputs": [],
   "source": [
    "\"\"\"\n",
    "Testing MLE Recovery for out multiple CDM models\n",
    "\"\"\""
   ]
  },
  {
   "cell_type": "code",
   "execution_count": 1,
   "metadata": {},
   "outputs": [],
   "source": [
    "from Utils import simple_parameters, simple_datasets, Series"
   ]
  },
  {
   "cell_type": "code",
   "execution_count": 2,
   "metadata": {},
   "outputs": [],
   "source": [
    "params = simple_parameters(n=2)"
   ]
  },
  {
   "cell_type": "code",
   "execution_count": 3,
   "metadata": {},
   "outputs": [],
   "source": [
    "data = simple_datasets(params, n_trials_list=[100, 200])"
   ]
  },
  {
   "cell_type": "code",
   "execution_count": 4,
   "metadata": {},
   "outputs": [],
   "source": [
    "P = Series()"
   ]
  },
  {
   "cell_type": "code",
   "execution_count": 5,
   "metadata": {},
   "outputs": [],
   "source": [
    "A=[0.05, 9, .05]\n",
    "T=[0.05, 18, .05]"
   ]
  },
  {
   "cell_type": "code",
   "execution_count": 6,
   "metadata": {},
   "outputs": [],
   "source": [
    "# Define bounds for each parameter in the model, chosen to reflect reasonable limits for the CDM model\n",
    "import numpy as np\n",
    "bounds = [\n",
    "    (0.5, 3.0),  # decision criterion (a)\n",
    "    (0.1, 3.0),  # drift rate magnitude (v)\n",
    "    (0.0, 2*np.pi),  # drift angle (bias)\n",
    "    (0.1, 1.0),  # non-decision time (t0)\n",
    "]"
   ]
  },
  {
   "cell_type": "code",
   "execution_count": 7,
   "metadata": {},
   "outputs": [],
   "source": [
    "from MLECDM import optimize_parameters_de"
   ]
  },
  {
   "cell_type": "code",
   "execution_count": 8,
   "metadata": {},
   "outputs": [
    {
     "name": "stdout",
     "output_type": "stream",
     "text": [
      "differential_evolution step 1: f(x)= -3356.801439902625\n",
      "differential_evolution step 2: f(x)= -3356.801439902625\n",
      "differential_evolution step 3: f(x)= -3356.801439902625\n",
      "differential_evolution step 4: f(x)= -3957.8174693233914\n",
      "differential_evolution step 5: f(x)= -3957.8174693233914\n",
      "differential_evolution step 6: f(x)= -3957.8174693233914\n",
      "differential_evolution step 7: f(x)= -4019.5060840124906\n",
      "differential_evolution step 8: f(x)= -4678.50224291543\n",
      "differential_evolution step 9: f(x)= -4678.50224291543\n",
      "differential_evolution step 10: f(x)= -4797.206248319971\n",
      "differential_evolution step 11: f(x)= -4841.457380917328\n",
      "differential_evolution step 12: f(x)= -5210.233970885955\n",
      "differential_evolution step 13: f(x)= -5442.668790930266\n",
      "differential_evolution step 14: f(x)= -5518.80592230995\n",
      "differential_evolution step 15: f(x)= -5543.231023493617\n",
      "differential_evolution step 16: f(x)= -6159.351850375643\n",
      "differential_evolution step 17: f(x)= -6159.351850375643\n",
      "differential_evolution step 18: f(x)= -6159.351850375643\n",
      "differential_evolution step 19: f(x)= -6159.351850375643\n",
      "differential_evolution step 20: f(x)= -6159.351850375643\n",
      "differential_evolution step 21: f(x)= -6159.351850375643\n",
      "differential_evolution step 22: f(x)= -6289.972486983532\n",
      "differential_evolution step 23: f(x)= -6289.972486983532\n",
      "differential_evolution step 24: f(x)= -6380.19328432659\n",
      "differential_evolution step 25: f(x)= -6380.19328432659\n",
      "differential_evolution step 26: f(x)= -6453.143089473245\n",
      "differential_evolution step 27: f(x)= -6453.143089473245\n",
      "differential_evolution step 28: f(x)= -6453.143089473245\n",
      "differential_evolution step 29: f(x)= -6453.143089473245\n",
      "differential_evolution step 30: f(x)= -6453.143089473245\n",
      "differential_evolution step 31: f(x)= -6453.143089473245\n",
      "differential_evolution step 32: f(x)= -6499.3337833820415\n",
      "differential_evolution step 33: f(x)= -6519.105551010725\n",
      "Polishing solution with 'L-BFGS-B'\n",
      "differential_evolution step 1: f(x)= -1646.9070343019196\n",
      "differential_evolution step 2: f(x)= -1646.9070343019196\n",
      "differential_evolution step 3: f(x)= -1646.9070343019196\n",
      "differential_evolution step 4: f(x)= -2620.5210049263974\n",
      "differential_evolution step 5: f(x)= -5220.239090009587\n",
      "differential_evolution step 6: f(x)= -6542.9896410267465\n",
      "differential_evolution step 7: f(x)= -6612.616818206762\n",
      "differential_evolution step 8: f(x)= -6612.616818206762\n",
      "differential_evolution step 9: f(x)= -6612.616818206762\n",
      "differential_evolution step 10: f(x)= -8203.390184740027\n",
      "differential_evolution step 11: f(x)= -8203.390184740027\n",
      "differential_evolution step 12: f(x)= -8281.945265327578\n",
      "differential_evolution step 13: f(x)= -9068.391198507174\n",
      "differential_evolution step 14: f(x)= -9627.560690162989\n",
      "differential_evolution step 15: f(x)= -9627.560690162989\n",
      "differential_evolution step 16: f(x)= -10036.461957863416\n",
      "differential_evolution step 17: f(x)= -10036.461957863416\n",
      "differential_evolution step 18: f(x)= -10169.297154249063\n",
      "differential_evolution step 19: f(x)= -10169.297154249063\n",
      "differential_evolution step 20: f(x)= -10177.222612843356\n",
      "differential_evolution step 21: f(x)= -10177.222612843356\n",
      "differential_evolution step 22: f(x)= -10873.016177867157\n",
      "differential_evolution step 23: f(x)= -10873.016177867157\n",
      "differential_evolution step 24: f(x)= -11087.370375320295\n",
      "differential_evolution step 25: f(x)= -11087.370375320295\n",
      "differential_evolution step 26: f(x)= -11112.329294488685\n",
      "differential_evolution step 27: f(x)= -11112.329294488685\n",
      "differential_evolution step 28: f(x)= -11112.329294488685\n",
      "differential_evolution step 29: f(x)= -11144.355991805794\n",
      "differential_evolution step 30: f(x)= -11243.61269089823\n",
      "differential_evolution step 31: f(x)= -11270.390963145916\n",
      "differential_evolution step 32: f(x)= -11270.390963145916\n",
      "differential_evolution step 33: f(x)= -11270.390963145916\n",
      "differential_evolution step 34: f(x)= -11272.469833794827\n",
      "differential_evolution step 35: f(x)= -11298.536902164617\n",
      "differential_evolution step 36: f(x)= -11298.536902164617\n",
      "differential_evolution step 37: f(x)= -11298.536902164617\n",
      "differential_evolution step 38: f(x)= -11298.536902164617\n",
      "Polishing solution with 'L-BFGS-B'\n",
      "differential_evolution step 1: f(x)= 415.63526025479587\n",
      "differential_evolution step 2: f(x)= 415.63526025479587\n",
      "differential_evolution step 3: f(x)= 415.63526025479587\n",
      "differential_evolution step 4: f(x)= 415.63526025479587\n",
      "differential_evolution step 5: f(x)= 415.63526025479587\n",
      "differential_evolution step 6: f(x)= 399.4388108126608\n",
      "differential_evolution step 7: f(x)= 376.1054542306478\n",
      "differential_evolution step 8: f(x)= 376.1054542306478\n",
      "differential_evolution step 9: f(x)= 358.9227907022672\n",
      "differential_evolution step 10: f(x)= 358.7015928522162\n",
      "differential_evolution step 11: f(x)= 355.1602035643583\n",
      "differential_evolution step 12: f(x)= 355.1602035643583\n",
      "differential_evolution step 13: f(x)= 351.9980191927131\n",
      "differential_evolution step 14: f(x)= 351.9980191927131\n",
      "differential_evolution step 15: f(x)= 349.6724778707017\n",
      "differential_evolution step 16: f(x)= 349.6724778707017\n",
      "differential_evolution step 17: f(x)= 349.6724778707017\n",
      "differential_evolution step 18: f(x)= 349.6724778707017\n",
      "differential_evolution step 19: f(x)= 348.3229943307846\n",
      "differential_evolution step 20: f(x)= 348.3229943307846\n",
      "Polishing solution with 'L-BFGS-B'\n",
      "differential_evolution step 1: f(x)= 962.635300328332\n",
      "differential_evolution step 2: f(x)= 899.4461122094261\n",
      "differential_evolution step 3: f(x)= 840.1796053835155\n",
      "differential_evolution step 4: f(x)= 762.9100576343856\n",
      "differential_evolution step 5: f(x)= 762.9100576343856\n",
      "differential_evolution step 6: f(x)= 762.9100576343856\n",
      "differential_evolution step 7: f(x)= 762.9100576343856\n",
      "differential_evolution step 8: f(x)= 762.9100576343856\n",
      "differential_evolution step 9: f(x)= 762.9100576343856\n",
      "differential_evolution step 10: f(x)= 748.0211369837995\n",
      "differential_evolution step 11: f(x)= 709.6724116712286\n",
      "differential_evolution step 12: f(x)= 705.5815171780365\n",
      "differential_evolution step 13: f(x)= 695.6763350988923\n",
      "differential_evolution step 14: f(x)= 695.6763350988923\n",
      "differential_evolution step 15: f(x)= 695.6763350988923\n",
      "differential_evolution step 16: f(x)= 694.5522890501035\n",
      "differential_evolution step 17: f(x)= 692.5342830586833\n",
      "differential_evolution step 18: f(x)= 692.5342830586833\n",
      "differential_evolution step 19: f(x)= 692.5342830586833\n",
      "differential_evolution step 20: f(x)= 692.5342830586833\n",
      "differential_evolution step 21: f(x)= 691.9745601990254\n",
      "differential_evolution step 22: f(x)= 691.4913280924857\n",
      "differential_evolution step 23: f(x)= 691.4913280924857\n",
      "differential_evolution step 24: f(x)= 691.4913280924857\n",
      "Polishing solution with 'L-BFGS-B'\n"
     ]
    }
   ],
   "source": [
    "results = optimize_parameters_de(params, data, A, T, P, bounds, maxiter=1000, popsize=5)"
   ]
  },
  {
   "cell_type": "code",
   "execution_count": 36,
   "metadata": {},
   "outputs": [],
   "source": [
    "import numpy as np\n",
    "\n",
    "def rmse(initial_params, recovered_params, param_names=None):\n",
    "    \"\"\"\n",
    "    Calculate RMSE for each parameter separately by trial number.\n",
    "    \n",
    "    Parameters:\n",
    "    initial_params (list of lists): Nested lists containing initial parameters for each set.\n",
    "    recovered_params (dict): Dictionary of recovered parameters structured as {set_index: {trial_number: {...}}}.\n",
    "    param_names (list of str, optional): List of parameter names. Used to label results.\n",
    "    \n",
    "    Returns:\n",
    "    dict: RMSE values grouped by trial number and parameter for each set.\n",
    "    \"\"\"\n",
    "    if param_names is None:\n",
    "        param_names = [f\"param_{i}\" for i in range(len(initial_params[0]))]\n",
    "    \n",
    "    results = {set_index: {} for set_index in recovered_params.keys()}\n",
    "    \n",
    "    for set_index, trials in recovered_params.items():\n",
    "        initial_set = initial_params[set_index]\n",
    "        \n",
    "        for trial_number, trial_data in trials.items():\n",
    "            # Extract recovered parameters from the 'x' field\n",
    "            recovered_set = trial_data.get('x', [])\n",
    "            if recovered_set is None or len(recovered_set) == 0 or len(recovered_set) != len(initial_set):\n",
    "                continue  # Skip if recovered parameters are missing or dimensions don't match\n",
    "            \n",
    "            # Initialize trial-specific entry\n",
    "            if trial_number not in results[set_index]:\n",
    "                results[set_index][trial_number] = {param_name: None for param_name in param_names}\n",
    "            \n",
    "            # Calculate squared differences and RMSE per parameter\n",
    "            for i, param_name in enumerate(param_names):\n",
    "                diff = (initial_set[i] - recovered_set[i]) ** 2\n",
    "                results[set_index][trial_number][param_name] = np.sqrt(diff)\n",
    "    \n",
    "    return results"
   ]
  },
  {
   "cell_type": "code",
   "execution_count": 37,
   "metadata": {},
   "outputs": [],
   "source": [
    "param_names = [\n",
    "    \"decision_criterion\",\"drift_length\", \"drift_angle\", \n",
    "    \"non_decision_time\"\n",
    "]"
   ]
  },
  {
   "cell_type": "code",
   "execution_count": 38,
   "metadata": {},
   "outputs": [],
   "source": [
    "RMSE = rmse(params, results, param_names)"
   ]
  },
  {
   "cell_type": "code",
   "execution_count": 39,
   "metadata": {},
   "outputs": [
    {
     "name": "stdout",
     "output_type": "stream",
     "text": [
      "{0: {100: {'decision_criterion': 1.7104081452957907, 'drift_length': 0.371995052443852, 'drift_angle': 0.5822521165440477, 'non_decision_time': 0.4251256565875853}, 200: {'decision_criterion': 1.7188531820241204, 'drift_length': 0.38136112674829015, 'drift_angle': 0.5822521165440477, 'non_decision_time': 0.4251256565875853}}, 1: {100: {'decision_criterion': 0.07901471546570615, 'drift_length': 0.5009943513201981, 'drift_angle': 3.2022773152953676, 'non_decision_time': 0.06789252560614756}, 200: {'decision_criterion': 0.15461563952630808, 'drift_length': 0.4860593629838471, 'drift_angle': 3.2022773152953676, 'non_decision_time': 0.13318356457373254}}}\n"
     ]
    }
   ],
   "source": [
    "print(RMSE)"
   ]
  },
  {
   "cell_type": "code",
   "execution_count": 15,
   "metadata": {},
   "outputs": [],
   "source": [
    "from MLECDM import optimize_cdm"
   ]
  },
  {
   "cell_type": "code",
   "execution_count": 16,
   "metadata": {},
   "outputs": [
    {
     "name": "stderr",
     "output_type": "stream",
     "text": [
      "Optimizing parameter sets: 100%|██████████| 2/2 [00:48<00:00, 24.02s/it]\n"
     ]
    }
   ],
   "source": [
    "results_tqdm = optimize_cdm(params, data, A, T, P, bounds, maxiter=1000, popsize=5)"
   ]
  },
  {
   "cell_type": "code",
   "execution_count": 41,
   "metadata": {},
   "outputs": [],
   "source": [
    "import matplotlib.pyplot as plt\n",
    "\n",
    "def plot(initial_params, recovered_params, param_names=None):\n",
    "    \"\"\"\n",
    "    Plot initial vs. recovered parameters for each trial number and parameter.\n",
    "    \n",
    "    Parameters:\n",
    "    initial_params (list of lists): Nested lists containing initial parameters for each set.\n",
    "    recovered_params (dict): Dictionary of recovered parameters structured as {set_index: {trial_number: {...}}}.\n",
    "    param_names (list of str, optional): List of parameter names. Used to label plots.\n",
    "    \"\"\"\n",
    "    if param_names is None:\n",
    "        param_names = [f\"param_{i}\" for i in range(len(initial_params[0]))]\n",
    "    \n",
    "    for set_index, trials in recovered_params.items():\n",
    "        initial_set = initial_params[set_index]\n",
    "        \n",
    "        for trial_number, trial_data in trials.items():\n",
    "            recovered_set = trial_data.get('x', [])\n",
    "            if recovered_set is None or len(recovered_set) == 0 or len(recovered_set) != len(initial_set):\n",
    "                continue  # Skip if recovered parameters are missing or dimensions don't match\n",
    "            \n",
    "            # Plot each parameter\n",
    "            for i, param_name in enumerate(param_names):\n",
    "                plt.figure(figsize=(6, 6))\n",
    "                plt.scatter(\n",
    "                    [initial_set[i]], [recovered_set[i]],\n",
    "                    color='blue', label='Recovered', s=100\n",
    "                )\n",
    "                plt.scatter(\n",
    "                    [initial_set[i]], [initial_set[i]],\n",
    "                    color='red', label='Initial', s=100, marker='x'\n",
    "                )\n",
    "                plt.plot(\n",
    "                    [min(initial_set[i], recovered_set[i]) - 0.1, max(initial_set[i], recovered_set[i]) + 0.1],\n",
    "                    [min(initial_set[i], recovered_set[i]) - 0.1, max(initial_set[i], recovered_set[i]) + 0.1],\n",
    "                    'k--', label='y=x'\n",
    "                )\n",
    "                \n",
    "                plt.title(f\"Set {set_index}, Trial {trial_number}, Parameter: {param_name}\")\n",
    "                plt.xlabel(\"Initial Value\")\n",
    "                plt.ylabel(\"Recovered Value\")\n",
    "                plt.legend()\n",
    "                plt.grid(True)\n",
    "                plt.tight_layout()\n",
    "                plt.show()"
   ]
  },
  {
   "cell_type": "code",
   "execution_count": null,
   "metadata": {},
   "outputs": [],
   "source": [
    "plot(params, results, param_names)"
   ]
  },
  {
   "cell_type": "code",
   "execution_count": null,
   "metadata": {},
   "outputs": [],
   "source": [
    "import scipy.stats as stats\n",
    "\n",
    "def plot2(initial_params, recovered_params, param_names=None):\n",
    "    \"\"\"\n",
    "    Plot initial vs. recovered parameters for each trial number and parameter, including correlation coefficient.\n",
    "    \"\"\"\n",
    "    if param_names is None:\n",
    "        param_names = [f\"param_{i}\" for i in range(len(initial_params[0]))]\n",
    "    \n",
    "    for set_index, trials in recovered_params.items():\n",
    "        initial_set = initial_params[set_index]\n",
    "        \n",
    "        for trial_number, trial_data in trials.items():\n",
    "            recovered_set = trial_data.get('x', [])\n",
    "            if recovered_set is None or len(recovered_set) == 0 or len(recovered_set) != len(initial_set):\n",
    "                continue  # Skip if recovered parameters are missing or dimensions don't match\n",
    "            \n",
    "            # Plot each parameter\n",
    "            for i, param_name in enumerate(param_names):\n",
    "                plt.figure(figsize=(6, 6))\n",
    "                plt.scatter(\n",
    "                    [initial_set[i]], [recovered_set[i]],\n",
    "                    color='blue', label='Recovered', s=100\n",
    "                )\n",
    "                plt.scatter(\n",
    "                    [initial_set[i]], [initial_set[i]],\n",
    "                    color='red', label='Initial', s=100, marker='x'\n",
    "                )\n",
    "                plt.plot(\n",
    "                    [min(initial_set[i], recovered_set[i]) - 0.1, max(initial_set[i], recovered_set[i]) + 0.1],\n",
    "                    [min(initial_set[i], recovered_set[i]) - 0.1, max(initial_set[i], recovered_set[i]) + 0.1],\n",
    "                    'k--', label='y=x'\n",
    "                )\n",
    "                \n",
    "                # Calculate correlation\n",
    "                correlation, _ = stats.pearsonr([initial_set[i]], [recovered_set[i]])\n",
    "                \n",
    "                plt.title(f\"Set {set_index}, Trial {trial_number}, Parameter: {param_name}\")\n",
    "                plt.xlabel(\"Initial Value\")\n",
    "                plt.ylabel(\"Recovered Value\")\n",
    "                plt.text(0.1, 0.9, f\"Corr: {correlation:.2f}\", transform=plt.gca().transAxes, fontsize=12)\n",
    "                plt.legend()\n",
    "                plt.grid(True)\n",
    "                plt.tight_layout()\n",
    "                plt.show()\n"
   ]
  },
  {
   "cell_type": "code",
   "execution_count": null,
   "metadata": {},
   "outputs": [],
   "source": []
  }
 ],
 "metadata": {
  "kernelspec": {
   "display_name": "modeling_test",
   "language": "python",
   "name": "python3"
  },
  "language_info": {
   "codemirror_mode": {
    "name": "ipython",
    "version": 3
   },
   "file_extension": ".py",
   "mimetype": "text/x-python",
   "name": "python",
   "nbconvert_exporter": "python",
   "pygments_lexer": "ipython3",
   "version": "3.11.10"
  }
 },
 "nbformat": 4,
 "nbformat_minor": 2
}
